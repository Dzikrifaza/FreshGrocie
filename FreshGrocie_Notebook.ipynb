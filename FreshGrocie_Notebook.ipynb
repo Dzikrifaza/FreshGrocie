{
  "nbformat": 4,
  "nbformat_minor": 0,
  "metadata": {
    "colab": {
      "provenance": [],
      "include_colab_link": true
    },
    "kernelspec": {
      "name": "python3",
      "display_name": "Python 3"
    },
    "language_info": {
      "name": "python"
    }
  },
  "cells": [
    {
      "cell_type": "markdown",
      "metadata": {
        "id": "view-in-github",
        "colab_type": "text"
      },
      "source": [
        "<a href=\"https://colab.research.google.com/github/Dzikrifaza/FreshGrocie/blob/ml_dev/FreshGrocie_Notebook.ipynb\" target=\"_parent\"><img src=\"https://colab.research.google.com/assets/colab-badge.svg\" alt=\"Open In Colab\"/></a>"
      ]
    },
    {
      "cell_type": "markdown",
      "source": [
        "#Library"
      ],
      "metadata": {
        "id": "ZvM9uJeihEUb"
      }
    },
    {
      "cell_type": "code",
      "execution_count": 2,
      "metadata": {
        "colab": {
          "base_uri": "https://localhost:8080/"
        },
        "id": "WOJ-jD8Vjidl",
        "outputId": "9bfccb8a-9ac4-4b4a-f4d0-3ada55693300"
      },
      "outputs": [
        {
          "output_type": "stream",
          "name": "stdout",
          "text": [
            "Looking in indexes: https://pypi.org/simple, https://us-python.pkg.dev/colab-wheels/public/simple/\n",
            "Requirement already satisfied: opendatasets in /usr/local/lib/python3.10/dist-packages (0.1.22)\n",
            "Requirement already satisfied: tqdm in /usr/local/lib/python3.10/dist-packages (from opendatasets) (4.65.0)\n",
            "Requirement already satisfied: kaggle in /usr/local/lib/python3.10/dist-packages (from opendatasets) (1.5.13)\n",
            "Requirement already satisfied: click in /usr/local/lib/python3.10/dist-packages (from opendatasets) (8.1.3)\n",
            "Requirement already satisfied: six>=1.10 in /usr/local/lib/python3.10/dist-packages (from kaggle->opendatasets) (1.16.0)\n",
            "Requirement already satisfied: certifi in /usr/local/lib/python3.10/dist-packages (from kaggle->opendatasets) (2022.12.7)\n",
            "Requirement already satisfied: python-dateutil in /usr/local/lib/python3.10/dist-packages (from kaggle->opendatasets) (2.8.2)\n",
            "Requirement already satisfied: requests in /usr/local/lib/python3.10/dist-packages (from kaggle->opendatasets) (2.27.1)\n",
            "Requirement already satisfied: python-slugify in /usr/local/lib/python3.10/dist-packages (from kaggle->opendatasets) (8.0.1)\n",
            "Requirement already satisfied: urllib3 in /usr/local/lib/python3.10/dist-packages (from kaggle->opendatasets) (1.26.15)\n",
            "Requirement already satisfied: text-unidecode>=1.3 in /usr/local/lib/python3.10/dist-packages (from python-slugify->kaggle->opendatasets) (1.3)\n",
            "Requirement already satisfied: charset-normalizer~=2.0.0 in /usr/local/lib/python3.10/dist-packages (from requests->kaggle->opendatasets) (2.0.12)\n",
            "Requirement already satisfied: idna<4,>=2.5 in /usr/local/lib/python3.10/dist-packages (from requests->kaggle->opendatasets) (3.4)\n",
            "Looking in indexes: https://pypi.org/simple, https://us-python.pkg.dev/colab-wheels/public/simple/\n",
            "Requirement already satisfied: split-folders in /usr/local/lib/python3.10/dist-packages (0.5.1)\n"
          ]
        }
      ],
      "source": [
        "!pip install opendatasets\n",
        "!pip install split-folders"
      ]
    },
    {
      "cell_type": "code",
      "execution_count": 3,
      "metadata": {
        "id": "0uthD4h_j842"
      },
      "outputs": [],
      "source": [
        "from keras.preprocessing.image import ImageDataGenerator\n",
        "from keras.models import Sequential\n",
        "from keras.layers import Dense, Conv2D, Flatten\n",
        "from keras.utils import Sequence\n",
        "\n",
        "import opendatasets as od\n",
        "import matplotlib.pyplot as plt\n",
        "import tensorflow as tf\n",
        "import numpy as np\n",
        "import splitfolders \n",
        "import pandas as pd\n",
        "import os\n",
        "\n",
        "import shutil\n",
        "from PIL import Image"
      ]
    },
    {
      "cell_type": "markdown",
      "metadata": {
        "id": "CLEwN7DJNKwh"
      },
      "source": [
        "#Download Dataset"
      ]
    },
    {
      "cell_type": "code",
      "execution_count": 4,
      "metadata": {
        "colab": {
          "base_uri": "https://localhost:8080/"
        },
        "id": "1yCVqoBGkEjm",
        "outputId": "df0f144c-af34-458c-fc39-17fe4025f03e"
      },
      "outputs": [
        {
          "output_type": "stream",
          "name": "stdout",
          "text": [
            "Please provide your Kaggle credentials to download this dataset. Learn more: http://bit.ly/kaggle-creds\n",
            "Your Kaggle username: dianaayum151dsy1844\n",
            "Your Kaggle Key: ··········\n",
            "Downloading fruits-and-vegetables-dataset.zip to ./fruits-and-vegetables-dataset\n"
          ]
        },
        {
          "output_type": "stream",
          "name": "stderr",
          "text": [
            "100%|██████████| 870M/870M [00:07<00:00, 118MB/s]\n"
          ]
        },
        {
          "output_type": "stream",
          "name": "stdout",
          "text": [
            "\n"
          ]
        }
      ],
      "source": [
        "od.download(\"https://www.kaggle.com/datasets/muhriddinmuxiddinov/fruits-and-vegetables-dataset\")"
      ]
    },
    {
      "cell_type": "markdown",
      "source": [
        "# Split Data"
      ],
      "metadata": {
        "id": "3ratgqxLmp5T"
      }
    },
    {
      "cell_type": "code",
      "execution_count": 5,
      "metadata": {
        "id": "JvDhVPYLZezY",
        "outputId": "99499fd7-9e74-4158-d1ae-a42de094e7de",
        "colab": {
          "base_uri": "https://localhost:8080/"
        }
      },
      "outputs": [
        {
          "output_type": "stream",
          "name": "stderr",
          "text": [
            "Copying files: 5997 files [00:03, 1963.80 files/s]\n"
          ]
        }
      ],
      "source": [
        "splitfolders.ratio('/content/fruits-and-vegetables-dataset/Fruits_Vegetables_Dataset(12000)/Fruits', \n",
        "                   output=\"/content/fruits-and-vegetables-dataset/Fruits_Vegetables_Dataset/Fruits/\", \n",
        "                   seed=42, \n",
        "                   ratio=(0.8,0.1,0.1), \n",
        "                   group_prefix=None)"
      ]
    },
    {
      "cell_type": "code",
      "source": [
        "splitfolders.ratio('/content/fruits-and-vegetables-dataset/Fruits_Vegetables_Dataset(12000)/Vegetables', \n",
        "                   output=\"/content/fruits-and-vegetables-dataset/Fruits_Vegetables_Dataset/Vegetables\", \n",
        "                   seed=42, \n",
        "                   ratio=(0.8,0.1,0.1), \n",
        "                   group_prefix=None)"
      ],
      "metadata": {
        "id": "YzRa0lHRnLqU",
        "outputId": "0643bf3e-5129-4f26-9f64-cd45c3fb02b2",
        "colab": {
          "base_uri": "https://localhost:8080/"
        }
      },
      "execution_count": 6,
      "outputs": [
        {
          "output_type": "stream",
          "name": "stderr",
          "text": [
            "Copying files: 6003 files [00:05, 1063.73 files/s]\n"
          ]
        }
      ]
    },
    {
      "cell_type": "markdown",
      "source": [
        "#Merge Train and Test Data for Fruits and Vegetables "
      ],
      "metadata": {
        "id": "i1uQ35DVXwak"
      }
    },
    {
      "cell_type": "markdown",
      "source": [
        "Funtion for moving the directory"
      ],
      "metadata": {
        "id": "2m6xAtq2gjOX"
      }
    },
    {
      "cell_type": "code",
      "source": [
        "def move_dir(src, dest, dir_list):\n",
        "  for dir_ in dir_list:\n",
        "    source = os.path.join(src, dir_)\n",
        "\n",
        "    if os.path.isdir(source):\n",
        "        shutil.move(source, dest)"
      ],
      "metadata": {
        "id": "kzTw26JjgEcg"
      },
      "execution_count": 7,
      "outputs": []
    },
    {
      "cell_type": "code",
      "source": [
        "def move_subdir(source, dest, subdir):\n",
        "  if not os.path.isdir(dest):\n",
        "      os.mkdir(dest)\n",
        "\n",
        "  src_path = os.path.join(source, subdir)\n",
        "  for item_list in os.listdir(src_path):\n",
        "      src = os.path.join(src_path, item_list)\n",
        "      dst = os.path.join(dest, item_list)\n",
        "      shutil.move(src, dst)\n",
        "\n",
        "  os.rmdir(src_path)"
      ],
      "metadata": {
        "id": "39RWqGJ9g1wF"
      },
      "execution_count": 8,
      "outputs": []
    },
    {
      "cell_type": "markdown",
      "source": [
        "Train Data:\n",
        "\n",
        "Disini, mengambil train data fruits dan vegetable lalu menggabungkannya menjadi 1 train data"
      ],
      "metadata": {
        "id": "Jn0ERAnRqnD1"
      }
    },
    {
      "cell_type": "code",
      "source": [
        "source_path = '/content/fruits-and-vegetables-dataset/Fruits_Vegetables_Dataset/Fruits'\n",
        "\n",
        "dir_list = ['train']\n",
        "\n",
        "dest_path = '/content/fruits-and-vegetables-dataset/Fruits_Vegetables_Dataset'\n",
        "dest = os.path.join(dest_path, 'train')\n",
        "\n",
        "move_dir(source_path, dest, dir_list)"
      ],
      "metadata": {
        "id": "VwnE5KLSqu2z"
      },
      "execution_count": 9,
      "outputs": []
    },
    {
      "cell_type": "code",
      "source": [
        "source_path = '/content/fruits-and-vegetables-dataset/Fruits_Vegetables_Dataset/Vegetables'\n",
        "\n",
        "subdir = 'train'\n",
        "\n",
        "dest_path = '/content/fruits-and-vegetables-dataset/Fruits_Vegetables_Dataset/train'\n",
        "\n",
        "move_subdir(source_path, dest_path, subdir)"
      ],
      "metadata": {
        "id": "26RjpPebqu20"
      },
      "execution_count": 10,
      "outputs": []
    },
    {
      "cell_type": "markdown",
      "source": [
        "Validation Data:\n",
        "\n",
        "Disini, mengambil validasi data fruits dan vegetable lalu menggabungkannya menjadi 1 validasi data"
      ],
      "metadata": {
        "id": "HtsrTQywqFFt"
      }
    },
    {
      "cell_type": "code",
      "source": [
        "source_path = '/content/fruits-and-vegetables-dataset/Fruits_Vegetables_Dataset/Fruits'\n",
        "\n",
        "dir_list = ['val']\n",
        "\n",
        "dest_path = '/content/fruits-and-vegetables-dataset/Fruits_Vegetables_Dataset'\n",
        "dest = os.path.join(dest_path, 'val')\n",
        "\n",
        "move_dir(source_path, dest, dir_list)"
      ],
      "metadata": {
        "id": "cC8ZyLLqcSzB"
      },
      "execution_count": 11,
      "outputs": []
    },
    {
      "cell_type": "code",
      "source": [
        "source_path = '/content/fruits-and-vegetables-dataset/Fruits_Vegetables_Dataset/Vegetables'\n",
        "\n",
        "subdir = 'val'\n",
        "\n",
        "dest_path = '/content/fruits-and-vegetables-dataset/Fruits_Vegetables_Dataset/val'\n",
        "\n",
        "move_subdir(source_path, dest_path, subdir)"
      ],
      "metadata": {
        "id": "jB4kwjkUmYbD"
      },
      "execution_count": 12,
      "outputs": []
    },
    {
      "cell_type": "markdown",
      "source": [
        "Test Data:\n",
        "\n",
        "Disini, mengambil validasi data fruits dan vegetable lalu menggabungkannya menjadi 1 test data"
      ],
      "metadata": {
        "id": "RUU4Nq6nVOB5"
      }
    },
    {
      "cell_type": "code",
      "source": [
        "source_path = '/content/fruits-and-vegetables-dataset/Fruits_Vegetables_Dataset/Fruits'\n",
        " \n",
        "dir_list = ['test']\n",
        " \n",
        "dest_path = '/content/fruits-and-vegetables-dataset/Fruits_Vegetables_Dataset'\n",
        "dest = os.path.join(dest_path, 'test')\n",
        "\n",
        "move_dir(source_path, dest, dir_list)"
      ],
      "metadata": {
        "id": "AB9fSzwFVOCG"
      },
      "execution_count": 13,
      "outputs": []
    },
    {
      "cell_type": "code",
      "source": [
        "source_path = '/content/fruits-and-vegetables-dataset/Fruits_Vegetables_Dataset/Vegetables'\n",
        "\n",
        "subdir = 'test'\n",
        "\n",
        "dest_path = '/content/fruits-and-vegetables-dataset/Fruits_Vegetables_Dataset/test'\n",
        "\n",
        "move_subdir(source_path, dest_path, subdir)"
      ],
      "metadata": {
        "id": "675XhgNzVOCH"
      },
      "execution_count": 14,
      "outputs": []
    }
  ]
}