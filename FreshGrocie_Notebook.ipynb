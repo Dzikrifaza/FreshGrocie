{
  "nbformat": 4,
  "nbformat_minor": 0,
  "metadata": {
    "colab": {
      "provenance": [],
      "gpuType": "T4",
      "include_colab_link": true
    },
    "kernelspec": {
      "name": "python3",
      "display_name": "Python 3"
    },
    "language_info": {
      "name": "python"
    },
    "accelerator": "GPU"
  },
  "cells": [
    {
      "cell_type": "markdown",
      "metadata": {
        "id": "view-in-github",
        "colab_type": "text"
      },
      "source": [
        "<a href=\"https://colab.research.google.com/github/Dzikrifaza/FreshGrocie/blob/ml_dev/FreshGrocie_Notebook.ipynb\" target=\"_parent\"><img src=\"https://colab.research.google.com/assets/colab-badge.svg\" alt=\"Open In Colab\"/></a>"
      ]
    },
    {
      "cell_type": "markdown",
      "source": [
        "#Library"
      ],
      "metadata": {
        "id": "ZvM9uJeihEUb"
      }
    },
    {
      "cell_type": "code",
      "execution_count": 1,
      "metadata": {
        "colab": {
          "base_uri": "https://localhost:8080/"
        },
        "id": "WOJ-jD8Vjidl",
        "outputId": "f73cdb28-ce47-4ff0-c9a0-a6d859d1d517"
      },
      "outputs": [
        {
          "output_type": "stream",
          "name": "stdout",
          "text": [
            "Looking in indexes: https://pypi.org/simple, https://us-python.pkg.dev/colab-wheels/public/simple/\n",
            "Collecting opendatasets\n",
            "  Downloading opendatasets-0.1.22-py3-none-any.whl (15 kB)\n",
            "Requirement already satisfied: tqdm in /usr/local/lib/python3.10/dist-packages (from opendatasets) (4.65.0)\n",
            "Requirement already satisfied: kaggle in /usr/local/lib/python3.10/dist-packages (from opendatasets) (1.5.13)\n",
            "Requirement already satisfied: click in /usr/local/lib/python3.10/dist-packages (from opendatasets) (8.1.3)\n",
            "Requirement already satisfied: six>=1.10 in /usr/local/lib/python3.10/dist-packages (from kaggle->opendatasets) (1.16.0)\n",
            "Requirement already satisfied: certifi in /usr/local/lib/python3.10/dist-packages (from kaggle->opendatasets) (2022.12.7)\n",
            "Requirement already satisfied: python-dateutil in /usr/local/lib/python3.10/dist-packages (from kaggle->opendatasets) (2.8.2)\n",
            "Requirement already satisfied: requests in /usr/local/lib/python3.10/dist-packages (from kaggle->opendatasets) (2.27.1)\n",
            "Requirement already satisfied: python-slugify in /usr/local/lib/python3.10/dist-packages (from kaggle->opendatasets) (8.0.1)\n",
            "Requirement already satisfied: urllib3 in /usr/local/lib/python3.10/dist-packages (from kaggle->opendatasets) (1.26.15)\n",
            "Requirement already satisfied: text-unidecode>=1.3 in /usr/local/lib/python3.10/dist-packages (from python-slugify->kaggle->opendatasets) (1.3)\n",
            "Requirement already satisfied: charset-normalizer~=2.0.0 in /usr/local/lib/python3.10/dist-packages (from requests->kaggle->opendatasets) (2.0.12)\n",
            "Requirement already satisfied: idna<4,>=2.5 in /usr/local/lib/python3.10/dist-packages (from requests->kaggle->opendatasets) (3.4)\n",
            "Installing collected packages: opendatasets\n",
            "Successfully installed opendatasets-0.1.22\n",
            "Looking in indexes: https://pypi.org/simple, https://us-python.pkg.dev/colab-wheels/public/simple/\n",
            "Collecting split-folders\n",
            "  Downloading split_folders-0.5.1-py3-none-any.whl (8.4 kB)\n",
            "Installing collected packages: split-folders\n",
            "Successfully installed split-folders-0.5.1\n"
          ]
        }
      ],
      "source": [
        "!pip install opendatasets\n",
        "!pip install split-folders"
      ]
    },
    {
      "cell_type": "code",
      "execution_count": 2,
      "metadata": {
        "id": "0uthD4h_j842"
      },
      "outputs": [],
      "source": [
        "from keras.preprocessing.image import ImageDataGenerator\n",
        "from keras.models import Sequential\n",
        "from keras.layers import Dense, Conv2D, Flatten\n",
        "from keras.utils import Sequence\n",
        "\n",
        "import opendatasets as od\n",
        "import matplotlib.pyplot as plt\n",
        "import tensorflow as tf\n",
        "import numpy as np\n",
        "import splitfolders \n",
        "import pandas as pd\n",
        "import os\n",
        "\n",
        "import shutil\n",
        "from PIL import Image"
      ]
    },
    {
      "cell_type": "markdown",
      "metadata": {
        "id": "CLEwN7DJNKwh"
      },
      "source": [
        "#Download Dataset"
      ]
    },
    {
      "cell_type": "code",
      "execution_count": 3,
      "metadata": {
        "colab": {
          "base_uri": "https://localhost:8080/"
        },
        "id": "1yCVqoBGkEjm",
        "outputId": "c1a06446-2b6c-4440-b97f-1d5c1a338afe"
      },
      "outputs": [
        {
          "output_type": "stream",
          "name": "stdout",
          "text": [
            "Please provide your Kaggle credentials to download this dataset. Learn more: http://bit.ly/kaggle-creds\n",
            "Your Kaggle username: dianaayum151dsy1844\n",
            "Your Kaggle Key: ··········\n",
            "Downloading fruits-and-vegetables-dataset.zip to ./fruits-and-vegetables-dataset\n"
          ]
        },
        {
          "output_type": "stream",
          "name": "stderr",
          "text": [
            "100%|██████████| 870M/870M [00:48<00:00, 19.0MB/s]\n"
          ]
        },
        {
          "output_type": "stream",
          "name": "stdout",
          "text": [
            "\n"
          ]
        }
      ],
      "source": [
        "od.download(\"https://www.kaggle.com/datasets/muhriddinmuxiddinov/fruits-and-vegetables-dataset\")"
      ]
    },
    {
      "cell_type": "markdown",
      "source": [
        "# Split Data"
      ],
      "metadata": {
        "id": "3ratgqxLmp5T"
      }
    },
    {
      "cell_type": "code",
      "execution_count": 4,
      "metadata": {
        "id": "JvDhVPYLZezY",
        "outputId": "06f4d7b7-a564-4224-e566-5d46ffb434d6",
        "colab": {
          "base_uri": "https://localhost:8080/"
        }
      },
      "outputs": [
        {
          "output_type": "stream",
          "name": "stderr",
          "text": [
            "Copying files: 5997 files [00:01, 4789.93 files/s]\n"
          ]
        }
      ],
      "source": [
        "splitfolders.ratio('/content/fruits-and-vegetables-dataset/Fruits_Vegetables_Dataset(12000)/Fruits', \n",
        "                   output=\"/content/fruits-and-vegetables-dataset/Fruits_Vegetables_Dataset/Fruits/\", \n",
        "                   seed=42, \n",
        "                   ratio=(0.8,0.1,0.1), # training, val, test\n",
        "                   group_prefix=None)"
      ]
    },
    {
      "cell_type": "code",
      "source": [
        "splitfolders.ratio('/content/fruits-and-vegetables-dataset/Fruits_Vegetables_Dataset(12000)/Vegetables', \n",
        "                   output=\"/content/fruits-and-vegetables-dataset/Fruits_Vegetables_Dataset/Vegetables\", \n",
        "                   seed=42, \n",
        "                   ratio=(0.8,0.1,0.1), # training, val, test\n",
        "                   group_prefix=None)"
      ],
      "metadata": {
        "id": "YzRa0lHRnLqU",
        "outputId": "d8893270-c029-4017-c7f1-e135319074af",
        "colab": {
          "base_uri": "https://localhost:8080/"
        }
      },
      "execution_count": 5,
      "outputs": [
        {
          "output_type": "stream",
          "name": "stderr",
          "text": [
            "Copying files: 6003 files [00:03, 1897.67 files/s]\n"
          ]
        }
      ]
    },
    {
      "cell_type": "markdown",
      "source": [
        "#Merge Train and Test Data for Fruits and Vegetables "
      ],
      "metadata": {
        "id": "i1uQ35DVXwak"
      }
    },
    {
      "cell_type": "markdown",
      "source": [
        "Funtion for moving the directory"
      ],
      "metadata": {
        "id": "2m6xAtq2gjOX"
      }
    },
    {
      "cell_type": "code",
      "source": [
        "def move_dir(src, dest, dir_list):\n",
        "  for dir_ in dir_list:\n",
        "    source = os.path.join(src, dir_)\n",
        "\n",
        "    if os.path.isdir(source):\n",
        "        shutil.move(source, dest)"
      ],
      "metadata": {
        "id": "kzTw26JjgEcg"
      },
      "execution_count": 6,
      "outputs": []
    },
    {
      "cell_type": "code",
      "source": [
        "def move_subdir(source, dest, subdir):\n",
        "  if not os.path.isdir(dest):\n",
        "      os.mkdir(dest)\n",
        "\n",
        "  src_path = os.path.join(source, subdir)\n",
        "  for item_list in os.listdir(src_path):\n",
        "      src = os.path.join(src_path, item_list)\n",
        "      dst = os.path.join(dest, item_list)\n",
        "      shutil.move(src, dst)\n",
        "\n",
        "  os.rmdir(src_path)"
      ],
      "metadata": {
        "id": "39RWqGJ9g1wF"
      },
      "execution_count": 7,
      "outputs": []
    },
    {
      "cell_type": "markdown",
      "source": [
        "Train Data:\n",
        "\n",
        "Disini, mengambil train data fruits dan vegetable lalu menggabungkannya menjadi 1 train data"
      ],
      "metadata": {
        "id": "Jn0ERAnRqnD1"
      }
    },
    {
      "cell_type": "code",
      "source": [
        "source_path = '/content/fruits-and-vegetables-dataset/Fruits_Vegetables_Dataset/Fruits'\n",
        "\n",
        "dir_list = ['train']\n",
        "\n",
        "dest_path = '/content/fruits-and-vegetables-dataset/Fruits_Vegetables_Dataset'\n",
        "dest = os.path.join(dest_path, 'train')\n",
        "\n",
        "move_dir(source_path, dest, dir_list)"
      ],
      "metadata": {
        "id": "VwnE5KLSqu2z"
      },
      "execution_count": 8,
      "outputs": []
    },
    {
      "cell_type": "code",
      "source": [
        "source_path = '/content/fruits-and-vegetables-dataset/Fruits_Vegetables_Dataset/Vegetables'\n",
        "\n",
        "subdir = 'train'\n",
        "\n",
        "dest_path = '/content/fruits-and-vegetables-dataset/Fruits_Vegetables_Dataset/train'\n",
        "\n",
        "move_subdir(source_path, dest_path, subdir)"
      ],
      "metadata": {
        "id": "26RjpPebqu20"
      },
      "execution_count": 9,
      "outputs": []
    },
    {
      "cell_type": "markdown",
      "source": [
        "Validation Data:\n",
        "\n",
        "Disini, mengambil validasi data fruits dan vegetable lalu menggabungkannya menjadi 1 validasi data"
      ],
      "metadata": {
        "id": "HtsrTQywqFFt"
      }
    },
    {
      "cell_type": "code",
      "source": [
        "source_path = '/content/fruits-and-vegetables-dataset/Fruits_Vegetables_Dataset/Fruits'\n",
        "\n",
        "dir_list = ['val']\n",
        "\n",
        "dest_path = '/content/fruits-and-vegetables-dataset/Fruits_Vegetables_Dataset'\n",
        "dest = os.path.join(dest_path, 'val')\n",
        "\n",
        "move_dir(source_path, dest, dir_list)"
      ],
      "metadata": {
        "id": "cC8ZyLLqcSzB"
      },
      "execution_count": 10,
      "outputs": []
    },
    {
      "cell_type": "code",
      "source": [
        "source_path = '/content/fruits-and-vegetables-dataset/Fruits_Vegetables_Dataset/Vegetables'\n",
        "\n",
        "subdir = 'val'\n",
        "\n",
        "dest_path = '/content/fruits-and-vegetables-dataset/Fruits_Vegetables_Dataset/val'\n",
        "\n",
        "move_subdir(source_path, dest_path, subdir)"
      ],
      "metadata": {
        "id": "jB4kwjkUmYbD"
      },
      "execution_count": 11,
      "outputs": []
    },
    {
      "cell_type": "markdown",
      "source": [
        "Test Data:\n",
        "\n",
        "Disini, mengambil validasi data fruits dan vegetable lalu menggabungkannya menjadi 1 test data"
      ],
      "metadata": {
        "id": "RUU4Nq6nVOB5"
      }
    },
    {
      "cell_type": "code",
      "source": [
        "source_path = '/content/fruits-and-vegetables-dataset/Fruits_Vegetables_Dataset/Fruits'\n",
        " \n",
        "dir_list = ['test']\n",
        " \n",
        "dest_path = '/content/fruits-and-vegetables-dataset/Fruits_Vegetables_Dataset'\n",
        "dest = os.path.join(dest_path, 'test')\n",
        "\n",
        "move_dir(source_path, dest, dir_list)"
      ],
      "metadata": {
        "id": "AB9fSzwFVOCG"
      },
      "execution_count": 12,
      "outputs": []
    },
    {
      "cell_type": "code",
      "source": [
        "source_path = '/content/fruits-and-vegetables-dataset/Fruits_Vegetables_Dataset/Vegetables'\n",
        "\n",
        "subdir = 'test'\n",
        "\n",
        "dest_path = '/content/fruits-and-vegetables-dataset/Fruits_Vegetables_Dataset/test'\n",
        "\n",
        "move_subdir(source_path, dest_path, subdir)"
      ],
      "metadata": {
        "id": "675XhgNzVOCH"
      },
      "execution_count": 13,
      "outputs": []
    },
    {
      "cell_type": "markdown",
      "source": [
        "#Assign"
      ],
      "metadata": {
        "id": "4zj4a8v3XziF"
      }
    },
    {
      "cell_type": "code",
      "source": [
        "train_FileNames = os.path.join('/content/fruits-and-vegetables-dataset/Fruits_Vegetables_Dataset/train')\n",
        "val_FileNames = os.path.join('/content/fruits-and-vegetables-dataset/Fruits_Vegetables_Dataset/val')\n",
        "test_FileNames = os.path.join('/content/fruits-and-vegetables-dataset/Fruits_Vegetables_Dataset/test')"
      ],
      "metadata": {
        "id": "XgTE0_PEur4f"
      },
      "execution_count": 14,
      "outputs": []
    },
    {
      "cell_type": "markdown",
      "source": [
        "Convert the RGBA"
      ],
      "metadata": {
        "id": "H0xb85xygdUh"
      }
    },
    {
      "cell_type": "code",
      "source": [
        "directory = \"/content/fruits-and-vegetables-dataset/Fruits_Vegetables_Dataset\"\n",
        "\n",
        "for root, _, files in os.walk(directory):\n",
        "    for file in files:\n",
        "        if file.endswith(\".png\") or file.endswith(\".webp\"):\n",
        "            image_path = os.path.join(root, file)\n",
        "\n",
        "            with Image.open(image_path) as img:\n",
        "                if img.mode == \"P\" and \"transparency\" in img.info:\n",
        "                    img = img.convert(\"RGBA\")\n",
        "\n",
        "                save_path = os.path.splitext(image_path)[0] + \".png\"\n",
        "                if file.endswith(\".webp\"):\n",
        "                    save_path = os.path.splitext(image_path)[0] + \".jpg\"\n",
        "\n",
        "                img.save(save_path)"
      ],
      "metadata": {
        "id": "A5wwApx0gnoK"
      },
      "execution_count": 15,
      "outputs": []
    },
    {
      "cell_type": "markdown",
      "source": [
        "#Model"
      ],
      "metadata": {
        "id": "ziHskJS1t8Qk"
      }
    },
    {
      "cell_type": "code",
      "source": [
        "import tensorflow as tf\n",
        "\n",
        "def create_model():\n",
        "  model = tf.keras.models.Sequential([\n",
        "        tf.keras.layers.Conv2D(32, (3,3), activation='relu', input_shape=(150, 150, 3)),\n",
        "        tf.keras.layers.MaxPooling2D(2, 2),\n",
        "        tf.keras.layers.Conv2D(64, (3,3), activation='relu'),\n",
        "        tf.keras.layers.MaxPooling2D(2,2),\n",
        "        tf.keras.layers.Conv2D(128, (3,3), activation='relu'),\n",
        "        tf.keras.layers.MaxPooling2D(2,2),\n",
        "        tf.keras.layers.Conv2D(32, (3,3), activation='relu'),\n",
        "        tf.keras.layers.MaxPooling2D(2,2),\n",
        "        tf.keras.layers.Flatten(),\n",
        "        tf.keras.layers.Dense(64, activation='relu'),\n",
        "        tf.keras.layers.Dense(32, activation='relu'),\n",
        "        tf.keras.layers.Dense(20, activation='softmax')\n",
        "    ])\n",
        "\n",
        "  return model"
      ],
      "metadata": {
        "id": "PqR-nYU0i7Gh"
      },
      "execution_count": 16,
      "outputs": []
    },
    {
      "cell_type": "code",
      "source": [
        "model = create_model()\n",
        "model.summary()"
      ],
      "metadata": {
        "colab": {
          "base_uri": "https://localhost:8080/"
        },
        "id": "gEmo7ntLXRw9",
        "outputId": "07b3553b-699f-4465-c39f-ef549174463a"
      },
      "execution_count": 17,
      "outputs": [
        {
          "output_type": "stream",
          "name": "stdout",
          "text": [
            "Model: \"sequential\"\n",
            "_________________________________________________________________\n",
            " Layer (type)                Output Shape              Param #   \n",
            "=================================================================\n",
            " conv2d (Conv2D)             (None, 148, 148, 32)      896       \n",
            "                                                                 \n",
            " max_pooling2d (MaxPooling2D  (None, 74, 74, 32)       0         \n",
            " )                                                               \n",
            "                                                                 \n",
            " conv2d_1 (Conv2D)           (None, 72, 72, 64)        18496     \n",
            "                                                                 \n",
            " max_pooling2d_1 (MaxPooling  (None, 36, 36, 64)       0         \n",
            " 2D)                                                             \n",
            "                                                                 \n",
            " conv2d_2 (Conv2D)           (None, 34, 34, 128)       73856     \n",
            "                                                                 \n",
            " max_pooling2d_2 (MaxPooling  (None, 17, 17, 128)      0         \n",
            " 2D)                                                             \n",
            "                                                                 \n",
            " conv2d_3 (Conv2D)           (None, 15, 15, 32)        36896     \n",
            "                                                                 \n",
            " max_pooling2d_3 (MaxPooling  (None, 7, 7, 32)         0         \n",
            " 2D)                                                             \n",
            "                                                                 \n",
            " flatten (Flatten)           (None, 1568)              0         \n",
            "                                                                 \n",
            " dense (Dense)               (None, 64)                100416    \n",
            "                                                                 \n",
            " dense_1 (Dense)             (None, 32)                2080      \n",
            "                                                                 \n",
            " dense_2 (Dense)             (None, 20)                660       \n",
            "                                                                 \n",
            "=================================================================\n",
            "Total params: 233,300\n",
            "Trainable params: 233,300\n",
            "Non-trainable params: 0\n",
            "_________________________________________________________________\n"
          ]
        }
      ]
    },
    {
      "cell_type": "markdown",
      "source": [
        "#Normalization"
      ],
      "metadata": {
        "id": "MCjib3xXgPmU"
      }
    },
    {
      "cell_type": "code",
      "source": [
        "tf.random.set_seed(42)\n",
        "\n",
        "train_datagen = ImageDataGenerator(rescale=1./255,\n",
        "                                   rotation_range=40,\n",
        "                                   width_shift_range=0.2,\n",
        "                                   height_shift_range=0.2,\n",
        "                                   shear_range=0.2,\n",
        "                                   zoom_range=0.2,\n",
        "                                   horizontal_flip=True,\n",
        "                                   vertical_flip=True,\n",
        "                                   brightness_range=(0.2, 0.8),\n",
        "                                   fill_mode='nearest')\n",
        "\n",
        "val_datagen = ImageDataGenerator(rescale=1./255)\n",
        "\n",
        "train_generator = train_datagen.flow_from_directory(\n",
        "        train_FileNames,  \n",
        "        target_size=(150, 150),\n",
        "        batch_size=20,\n",
        "        class_mode='categorical')\n",
        "\n",
        "validation_generator = val_datagen.flow_from_directory(\n",
        "        val_FileNames,\n",
        "        target_size=(150, 150),\n",
        "        batch_size=20,\n",
        "        class_mode='categorical')"
      ],
      "metadata": {
        "colab": {
          "base_uri": "https://localhost:8080/"
        },
        "id": "GH0QiCzkjEVF",
        "outputId": "261ded0b-d08c-4d22-98d0-a9389d6bdd0c"
      },
      "execution_count": 18,
      "outputs": [
        {
          "output_type": "stream",
          "name": "stdout",
          "text": [
            "Found 9582 images belonging to 20 classes.\n",
            "Found 1192 images belonging to 20 classes.\n"
          ]
        }
      ]
    },
    {
      "cell_type": "markdown",
      "source": [
        "#Compile and Train the model"
      ],
      "metadata": {
        "id": "RO6MWP28cLJI"
      }
    },
    {
      "cell_type": "code",
      "source": [
        "model.compile(loss='categorical_crossentropy',\n",
        "                optimizer=tf.keras.optimizers.SGD(learning_rate=7e-6, momentum=0.9),\n",
        "                metrics=['accuracy'])"
      ],
      "metadata": {
        "id": "3__-eypdDh4l"
      },
      "execution_count": 20,
      "outputs": []
    },
    {
      "cell_type": "code",
      "source": [
        "# Constant for epochs\n",
        "# Train the model\n",
        "inception_v3 = model.fit(\n",
        "    train_generator,\n",
        "    batch_size = 20,\n",
        "    steps_per_epoch = 400,  # 9582 images = batch_size * steps \n",
        "    epochs= 10,\n",
        "    validation_data=validation_generator,\n",
        "    validation_steps=50,  # 2408 images = batch_size * steps\n",
        "    verbose=2)"
      ],
      "metadata": {
        "colab": {
          "base_uri": "https://localhost:8080/"
        },
        "outputId": "1d682fe5-4e7f-4e5b-bc75-90ea78385875",
        "id": "5edS3jLv8bUa"
      },
      "execution_count": null,
      "outputs": [
        {
          "output_type": "stream",
          "name": "stdout",
          "text": [
            "Epoch 1/10\n",
            "400/400 - 110s - loss: 1.1242 - accuracy: 0.6314 - val_loss: 0.6410 - val_accuracy: 0.7980 - 110s/epoch - 276ms/step\n",
            "Epoch 2/10\n",
            "400/400 - 102s - loss: 0.9688 - accuracy: 0.6774 - val_loss: 0.5257 - val_accuracy: 0.8380 - 102s/epoch - 256ms/step\n",
            "Epoch 3/10\n",
            "400/400 - 104s - loss: 0.8697 - accuracy: 0.7047 - val_loss: 0.5360 - val_accuracy: 0.8320 - 104s/epoch - 261ms/step\n",
            "Epoch 4/10\n",
            "400/400 - 98s - loss: 0.8459 - accuracy: 0.7129 - val_loss: 0.4689 - val_accuracy: 0.8600 - 98s/epoch - 245ms/step\n",
            "Epoch 5/10\n",
            "400/400 - 98s - loss: 0.7776 - accuracy: 0.7471 - val_loss: 0.5078 - val_accuracy: 0.8310 - 98s/epoch - 245ms/step\n",
            "Epoch 6/10\n",
            "400/400 - 101s - loss: 0.7606 - accuracy: 0.7406 - val_loss: 0.4561 - val_accuracy: 0.8480 - 101s/epoch - 252ms/step\n",
            "Epoch 7/10\n",
            "400/400 - 100s - loss: 0.7306 - accuracy: 0.7515 - val_loss: 0.4511 - val_accuracy: 0.8520 - 100s/epoch - 251ms/step\n",
            "Epoch 8/10\n",
            "400/400 - 101s - loss: 0.7126 - accuracy: 0.7666 - val_loss: 0.4386 - val_accuracy: 0.8480 - 101s/epoch - 252ms/step\n",
            "Epoch 9/10\n",
            "400/400 - 101s - loss: 0.6814 - accuracy: 0.7721 - val_loss: 0.3824 - val_accuracy: 0.8770 - 101s/epoch - 253ms/step\n",
            "Epoch 10/10\n",
            "400/400 - 101s - loss: 0.6390 - accuracy: 0.7900 - val_loss: 0.4002 - val_accuracy: 0.8720 - 101s/epoch - 252ms/step\n"
          ]
        }
      ]
    }
  ]
}