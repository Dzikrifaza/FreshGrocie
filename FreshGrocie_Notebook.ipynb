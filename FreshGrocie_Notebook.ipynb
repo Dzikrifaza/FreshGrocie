{
  "nbformat": 4,
  "nbformat_minor": 0,
  "metadata": {
    "colab": {
      "provenance": [],
      "gpuType": "T4",
      "include_colab_link": true
    },
    "kernelspec": {
      "name": "python3",
      "display_name": "Python 3"
    },
    "language_info": {
      "name": "python"
    },
    "accelerator": "GPU"
  },
  "cells": [
    {
      "cell_type": "markdown",
      "metadata": {
        "id": "view-in-github",
        "colab_type": "text"
      },
      "source": [
        "<a href=\"https://colab.research.google.com/github/Dzikrifaza/FreshGrocie/blob/ml_dev/FreshGrocie_Notebook.ipynb\" target=\"_parent\"><img src=\"https://colab.research.google.com/assets/colab-badge.svg\" alt=\"Open In Colab\"/></a>"
      ]
    },
    {
      "cell_type": "markdown",
      "source": [
        "#Library"
      ],
      "metadata": {
        "id": "ZvM9uJeihEUb"
      }
    },
    {
      "cell_type": "code",
      "execution_count": null,
      "metadata": {
        "colab": {
          "base_uri": "https://localhost:8080/"
        },
        "id": "WOJ-jD8Vjidl",
        "outputId": "8772f8ef-4e5b-4200-eb88-37d96b4afd96"
      },
      "outputs": [
        {
          "output_type": "stream",
          "name": "stdout",
          "text": [
            "Looking in indexes: https://pypi.org/simple, https://us-python.pkg.dev/colab-wheels/public/simple/\n",
            "Collecting opendatasets\n",
            "  Downloading opendatasets-0.1.22-py3-none-any.whl (15 kB)\n",
            "Requirement already satisfied: tqdm in /usr/local/lib/python3.10/dist-packages (from opendatasets) (4.65.0)\n",
            "Requirement already satisfied: kaggle in /usr/local/lib/python3.10/dist-packages (from opendatasets) (1.5.13)\n",
            "Requirement already satisfied: click in /usr/local/lib/python3.10/dist-packages (from opendatasets) (8.1.3)\n",
            "Requirement already satisfied: six>=1.10 in /usr/local/lib/python3.10/dist-packages (from kaggle->opendatasets) (1.16.0)\n",
            "Requirement already satisfied: certifi in /usr/local/lib/python3.10/dist-packages (from kaggle->opendatasets) (2022.12.7)\n",
            "Requirement already satisfied: python-dateutil in /usr/local/lib/python3.10/dist-packages (from kaggle->opendatasets) (2.8.2)\n",
            "Requirement already satisfied: requests in /usr/local/lib/python3.10/dist-packages (from kaggle->opendatasets) (2.27.1)\n",
            "Requirement already satisfied: python-slugify in /usr/local/lib/python3.10/dist-packages (from kaggle->opendatasets) (8.0.1)\n",
            "Requirement already satisfied: urllib3 in /usr/local/lib/python3.10/dist-packages (from kaggle->opendatasets) (1.26.15)\n",
            "Requirement already satisfied: text-unidecode>=1.3 in /usr/local/lib/python3.10/dist-packages (from python-slugify->kaggle->opendatasets) (1.3)\n",
            "Requirement already satisfied: charset-normalizer~=2.0.0 in /usr/local/lib/python3.10/dist-packages (from requests->kaggle->opendatasets) (2.0.12)\n",
            "Requirement already satisfied: idna<4,>=2.5 in /usr/local/lib/python3.10/dist-packages (from requests->kaggle->opendatasets) (3.4)\n",
            "Installing collected packages: opendatasets\n",
            "Successfully installed opendatasets-0.1.22\n",
            "Looking in indexes: https://pypi.org/simple, https://us-python.pkg.dev/colab-wheels/public/simple/\n",
            "Collecting split-folders\n",
            "  Downloading split_folders-0.5.1-py3-none-any.whl (8.4 kB)\n",
            "Installing collected packages: split-folders\n",
            "Successfully installed split-folders-0.5.1\n"
          ]
        }
      ],
      "source": [
        "!pip install opendatasets\n",
        "!pip install split-folders"
      ]
    },
    {
      "cell_type": "code",
      "execution_count": null,
      "metadata": {
        "id": "0uthD4h_j842"
      },
      "outputs": [],
      "source": [
        "from keras.preprocessing.image import ImageDataGenerator\n",
        "from keras.models import Sequential\n",
        "from keras.layers import Dense, Conv2D, Flatten\n",
        "from keras.utils import Sequence\n",
        "\n",
        "import opendatasets as od\n",
        "import matplotlib.pyplot as plt\n",
        "import tensorflow as tf\n",
        "import numpy as np\n",
        "import splitfolders \n",
        "import pandas as pd\n",
        "import os\n",
        "\n",
        "import shutil\n",
        "from PIL import Image"
      ]
    },
    {
      "cell_type": "markdown",
      "metadata": {
        "id": "CLEwN7DJNKwh"
      },
      "source": [
        "#Download Dataset"
      ]
    },
    {
      "cell_type": "code",
      "execution_count": null,
      "metadata": {
        "colab": {
          "base_uri": "https://localhost:8080/"
        },
        "id": "1yCVqoBGkEjm",
        "outputId": "0aed67d4-04ed-46c2-a82c-74ab0f382b01"
      },
      "outputs": [
        {
          "output_type": "stream",
          "name": "stdout",
          "text": [
            "Please provide your Kaggle credentials to download this dataset. Learn more: http://bit.ly/kaggle-creds\n",
            "Your Kaggle username: dianaayum151dsy1844\n",
            "Your Kaggle Key: ··········\n",
            "Downloading fruits-and-vegetables-dataset.zip to ./fruits-and-vegetables-dataset\n"
          ]
        },
        {
          "output_type": "stream",
          "name": "stderr",
          "text": [
            "100%|██████████| 870M/870M [00:36<00:00, 24.8MB/s]\n"
          ]
        },
        {
          "output_type": "stream",
          "name": "stdout",
          "text": [
            "\n"
          ]
        }
      ],
      "source": [
        "od.download(\"https://www.kaggle.com/datasets/muhriddinmuxiddinov/fruits-and-vegetables-dataset\")"
      ]
    },
    {
      "cell_type": "markdown",
      "source": [
        "# Split Data"
      ],
      "metadata": {
        "id": "3ratgqxLmp5T"
      }
    },
    {
      "cell_type": "code",
      "execution_count": null,
      "metadata": {
        "id": "JvDhVPYLZezY",
        "outputId": "6bdcbb0d-a2f7-4070-9672-e99d7cb74c3a",
        "colab": {
          "base_uri": "https://localhost:8080/"
        }
      },
      "outputs": [
        {
          "output_type": "stream",
          "name": "stderr",
          "text": [
            "Copying files: 5997 files [00:01, 4373.38 files/s]\n"
          ]
        }
      ],
      "source": [
        "splitfolders.ratio('/content/fruits-and-vegetables-dataset/Fruits_Vegetables_Dataset(12000)/Fruits', \n",
        "                   output=\"/content/fruits-and-vegetables-dataset/Fruits_Vegetables_Dataset/Fruits/\", \n",
        "                   seed=42, \n",
        "                   ratio=(0.8,0.1,0.1), # training, val, test\n",
        "                   group_prefix=None)"
      ]
    },
    {
      "cell_type": "code",
      "source": [
        "splitfolders.ratio('/content/fruits-and-vegetables-dataset/Fruits_Vegetables_Dataset(12000)/Vegetables', \n",
        "                   output=\"/content/fruits-and-vegetables-dataset/Fruits_Vegetables_Dataset/Vegetables\", \n",
        "                   seed=42, \n",
        "                   ratio=(0.8,0.1,0.1), # training, val, test\n",
        "                   group_prefix=None)"
      ],
      "metadata": {
        "id": "YzRa0lHRnLqU",
        "outputId": "271eac51-c6ae-48cd-8f88-3b7e0e854a5b",
        "colab": {
          "base_uri": "https://localhost:8080/"
        }
      },
      "execution_count": null,
      "outputs": [
        {
          "output_type": "stream",
          "name": "stderr",
          "text": [
            "Copying files: 6003 files [00:02, 2821.32 files/s]\n"
          ]
        }
      ]
    },
    {
      "cell_type": "markdown",
      "source": [
        "#Merge Train and Test Data for Fruits and Vegetables "
      ],
      "metadata": {
        "id": "i1uQ35DVXwak"
      }
    },
    {
      "cell_type": "markdown",
      "source": [
        "Funtion for moving the directory"
      ],
      "metadata": {
        "id": "2m6xAtq2gjOX"
      }
    },
    {
      "cell_type": "code",
      "source": [
        "def move_dir(src, dest, dir_list):\n",
        "  for dir_ in dir_list:\n",
        "    source = os.path.join(src, dir_)\n",
        "\n",
        "    if os.path.isdir(source):\n",
        "        shutil.move(source, dest)"
      ],
      "metadata": {
        "id": "kzTw26JjgEcg"
      },
      "execution_count": null,
      "outputs": []
    },
    {
      "cell_type": "code",
      "source": [
        "def move_subdir(source, dest, subdir):\n",
        "  if not os.path.isdir(dest):\n",
        "      os.mkdir(dest)\n",
        "\n",
        "  src_path = os.path.join(source, subdir)\n",
        "  for item_list in os.listdir(src_path):\n",
        "      src = os.path.join(src_path, item_list)\n",
        "      dst = os.path.join(dest, item_list)\n",
        "      shutil.move(src, dst)\n",
        "\n",
        "  os.rmdir(src_path)"
      ],
      "metadata": {
        "id": "39RWqGJ9g1wF"
      },
      "execution_count": null,
      "outputs": []
    },
    {
      "cell_type": "markdown",
      "source": [
        "Train Data:\n",
        "\n",
        "Taking the data from fruits and vegetables and combine them into 1 training data"
      ],
      "metadata": {
        "id": "Jn0ERAnRqnD1"
      }
    },
    {
      "cell_type": "code",
      "source": [
        "source_path = '/content/fruits-and-vegetables-dataset/Fruits_Vegetables_Dataset/Fruits'\n",
        "\n",
        "dir_list = ['train']\n",
        "\n",
        "dest_path = '/content/fruits-and-vegetables-dataset/Fruits_Vegetables_Dataset'\n",
        "dest = os.path.join(dest_path, 'train')\n",
        "\n",
        "move_dir(source_path, dest, dir_list)"
      ],
      "metadata": {
        "id": "VwnE5KLSqu2z"
      },
      "execution_count": null,
      "outputs": []
    },
    {
      "cell_type": "code",
      "source": [
        "source_path = '/content/fruits-and-vegetables-dataset/Fruits_Vegetables_Dataset/Vegetables'\n",
        "\n",
        "subdir = 'train'\n",
        "\n",
        "dest_path = '/content/fruits-and-vegetables-dataset/Fruits_Vegetables_Dataset/train'\n",
        "\n",
        "move_subdir(source_path, dest_path, subdir)"
      ],
      "metadata": {
        "id": "26RjpPebqu20"
      },
      "execution_count": null,
      "outputs": []
    },
    {
      "cell_type": "markdown",
      "source": [
        "Validation Data:\n",
        "\n",
        "Taking the data from fruits and vegetables and combine them into 1 validation data"
      ],
      "metadata": {
        "id": "HtsrTQywqFFt"
      }
    },
    {
      "cell_type": "code",
      "source": [
        "source_path = '/content/fruits-and-vegetables-dataset/Fruits_Vegetables_Dataset/Fruits'\n",
        "\n",
        "dir_list = ['val']\n",
        "\n",
        "dest_path = '/content/fruits-and-vegetables-dataset/Fruits_Vegetables_Dataset'\n",
        "dest = os.path.join(dest_path, 'val')\n",
        "\n",
        "move_dir(source_path, dest, dir_list)"
      ],
      "metadata": {
        "id": "cC8ZyLLqcSzB"
      },
      "execution_count": null,
      "outputs": []
    },
    {
      "cell_type": "code",
      "source": [
        "source_path = '/content/fruits-and-vegetables-dataset/Fruits_Vegetables_Dataset/Vegetables'\n",
        "\n",
        "subdir = 'val'\n",
        "\n",
        "dest_path = '/content/fruits-and-vegetables-dataset/Fruits_Vegetables_Dataset/val'\n",
        "\n",
        "move_subdir(source_path, dest_path, subdir)"
      ],
      "metadata": {
        "id": "jB4kwjkUmYbD"
      },
      "execution_count": null,
      "outputs": []
    },
    {
      "cell_type": "markdown",
      "source": [
        "Test Data:\n",
        "\n",
        "Taking the data from fruits and vegetables and combine them into 1 testing data"
      ],
      "metadata": {
        "id": "RUU4Nq6nVOB5"
      }
    },
    {
      "cell_type": "code",
      "source": [
        "source_path = '/content/fruits-and-vegetables-dataset/Fruits_Vegetables_Dataset/Fruits'\n",
        " \n",
        "dir_list = ['test']\n",
        " \n",
        "dest_path = '/content/fruits-and-vegetables-dataset/Fruits_Vegetables_Dataset'\n",
        "dest = os.path.join(dest_path, 'test')\n",
        "\n",
        "move_dir(source_path, dest, dir_list)"
      ],
      "metadata": {
        "id": "AB9fSzwFVOCG"
      },
      "execution_count": null,
      "outputs": []
    },
    {
      "cell_type": "code",
      "source": [
        "source_path = '/content/fruits-and-vegetables-dataset/Fruits_Vegetables_Dataset/Vegetables'\n",
        "\n",
        "subdir = 'test'\n",
        "\n",
        "dest_path = '/content/fruits-and-vegetables-dataset/Fruits_Vegetables_Dataset/test'\n",
        "\n",
        "move_subdir(source_path, dest_path, subdir)"
      ],
      "metadata": {
        "id": "675XhgNzVOCH"
      },
      "execution_count": null,
      "outputs": []
    },
    {
      "cell_type": "markdown",
      "source": [
        "#Assign"
      ],
      "metadata": {
        "id": "4zj4a8v3XziF"
      }
    },
    {
      "cell_type": "code",
      "source": [
        "train_FileNames = os.path.join('/content/fruits-and-vegetables-dataset/Fruits_Vegetables_Dataset/train')\n",
        "val_FileNames = os.path.join('/content/fruits-and-vegetables-dataset/Fruits_Vegetables_Dataset/val')\n",
        "test_FileNames = os.path.join('/content/fruits-and-vegetables-dataset/Fruits_Vegetables_Dataset/test')"
      ],
      "metadata": {
        "id": "XgTE0_PEur4f"
      },
      "execution_count": null,
      "outputs": []
    },
    {
      "cell_type": "markdown",
      "source": [
        "Convert the RGBA"
      ],
      "metadata": {
        "id": "H0xb85xygdUh"
      }
    },
    {
      "cell_type": "code",
      "source": [
        "directory = \"/content/fruits-and-vegetables-dataset/Fruits_Vegetables_Dataset\"\n",
        "\n",
        "for root, _, files in os.walk(directory):\n",
        "    for file in files:\n",
        "        if file.endswith(\".png\") or file.endswith(\".webp\"):\n",
        "            image_path = os.path.join(root, file)\n",
        "\n",
        "            with Image.open(image_path) as img:\n",
        "                if img.mode == \"P\" and \"transparency\" in img.info:\n",
        "                    img = img.convert(\"RGBA\")\n",
        "\n",
        "                save_path = os.path.splitext(image_path)[0] + \".png\"\n",
        "                if file.endswith(\".webp\"):\n",
        "                    save_path = os.path.splitext(image_path)[0] + \".jpg\"\n",
        "\n",
        "                img.save(save_path)"
      ],
      "metadata": {
        "id": "A5wwApx0gnoK"
      },
      "execution_count": null,
      "outputs": []
    },
    {
      "cell_type": "markdown",
      "source": [
        "#Model"
      ],
      "metadata": {
        "id": "ziHskJS1t8Qk"
      }
    },
    {
      "cell_type": "code",
      "source": [
        "!wget --no-check-certificate \\\n",
        "    https://storage.googleapis.com/mledu-datasets/inception_v3_weights_tf_dim_ordering_tf_kernels_notop.h5 \\\n",
        "    -O /tmp/inception_v3_weights_tf_dim_ordering_tf_kernels_notop.h5"
      ],
      "metadata": {
        "colab": {
          "base_uri": "https://localhost:8080/"
        },
        "id": "QPmJcPw0WxXy",
        "outputId": "47a751a7-4621-491c-a3a9-875b3ca6ef90"
      },
      "execution_count": null,
      "outputs": [
        {
          "output_type": "stream",
          "name": "stdout",
          "text": [
            "--2023-05-28 08:41:42--  https://storage.googleapis.com/mledu-datasets/inception_v3_weights_tf_dim_ordering_tf_kernels_notop.h5\n",
            "Resolving storage.googleapis.com (storage.googleapis.com)... 74.125.128.128, 74.125.143.128, 173.194.69.128, ...\n",
            "Connecting to storage.googleapis.com (storage.googleapis.com)|74.125.128.128|:443... connected.\n",
            "HTTP request sent, awaiting response... 200 OK\n",
            "Length: 87910968 (84M) [application/x-hdf]\n",
            "Saving to: ‘/tmp/inception_v3_weights_tf_dim_ordering_tf_kernels_notop.h5’\n",
            "\n",
            "/tmp/inception_v3_w 100%[===================>]  83.84M  26.4MB/s    in 3.2s    \n",
            "\n",
            "2023-05-28 08:41:45 (26.4 MB/s) - ‘/tmp/inception_v3_weights_tf_dim_ordering_tf_kernels_notop.h5’ saved [87910968/87910968]\n",
            "\n"
          ]
        }
      ]
    },
    {
      "cell_type": "code",
      "source": [
        "from tensorflow.keras.applications.inception_v3 import InceptionV3\n",
        "\n",
        "local_weights_file = '/tmp/inception_v3_weights_tf_dim_ordering_tf_kernels_notop.h5'"
      ],
      "metadata": {
        "id": "K8BYN-KFWpBY"
      },
      "execution_count": null,
      "outputs": []
    },
    {
      "cell_type": "code",
      "source": [
        "def create_pre_trained(local_weights_file):\n",
        "  pre_trained_model = InceptionV3(input_shape = (150, 150, 3),\n",
        "                                  include_top = False, \n",
        "                                  weights = None,\n",
        "                                  pooling ='max',\n",
        "                                  classes = 20) \n",
        "\n",
        "  pre_trained_model.load_weights(local_weights_file)\n",
        "\n",
        "  for layer in pre_trained_model.layers:\n",
        "    layer.trainable = False\n",
        "\n",
        "  return pre_trained_model"
      ],
      "metadata": {
        "id": "DIQ751lkW57M"
      },
      "execution_count": null,
      "outputs": []
    },
    {
      "cell_type": "code",
      "source": [
        "pre_trained_model = create_pre_trained(local_weights_file)"
      ],
      "metadata": {
        "id": "tBL5hNxfXJ5Q"
      },
      "execution_count": null,
      "outputs": []
    },
    {
      "cell_type": "code",
      "source": [
        "def output_of_last_layer(pre_trained_model):\n",
        "  last_desired_layer = pre_trained_model.get_layer('mixed7')\n",
        "  last_output = last_desired_layer.output\n",
        "\n",
        "  return last_output"
      ],
      "metadata": {
        "id": "FBZ8DxZQXQvG"
      },
      "execution_count": null,
      "outputs": []
    },
    {
      "cell_type": "code",
      "source": [
        "last_output = output_of_last_layer(pre_trained_model)"
      ],
      "metadata": {
        "id": "sHFbj4VLZC2s"
      },
      "execution_count": null,
      "outputs": []
    },
    {
      "cell_type": "code",
      "source": [
        "from tensorflow.keras import layers\n",
        "from tensorflow.keras import Model\n",
        "\n",
        "def create_final_model(pre_trained_model, last_output):\n",
        "  x = layers.Flatten()(last_output)\n",
        "  x = layers.Dense(216, activation='relu')(x)\n",
        "  x = layers.Dropout(0.2)(x)\n",
        "  x = layers.Dense(20, activation='softmax')(x)        \n",
        "\n",
        "  model = Model(inputs=pre_trained_model.input, outputs=x)\n",
        "\n",
        "  return model"
      ],
      "metadata": {
        "id": "hIF7dqboXqkL"
      },
      "execution_count": null,
      "outputs": []
    },
    {
      "cell_type": "code",
      "source": [
        "model = create_final_model(pre_trained_model, last_output)"
      ],
      "metadata": {
        "id": "Z5z3M1byaVvg"
      },
      "execution_count": null,
      "outputs": []
    },
    {
      "cell_type": "markdown",
      "source": [
        "#Normalization"
      ],
      "metadata": {
        "id": "MCjib3xXgPmU"
      }
    },
    {
      "cell_type": "code",
      "source": [
        "tf.random.set_seed(42)\n",
        "\n",
        "train_datagen = ImageDataGenerator(rescale=1./255,\n",
        "                                   rotation_range=40,\n",
        "                                   width_shift_range=0.2,\n",
        "                                   height_shift_range=0.2,\n",
        "                                   shear_range=0.2,\n",
        "                                   zoom_range=0.2,\n",
        "                                   horizontal_flip=True,\n",
        "                                   vertical_flip=True,\n",
        "                                   brightness_range=(0.2, 0.8),\n",
        "                                   fill_mode='nearest')\n",
        "\n",
        "val_datagen = ImageDataGenerator(rescale=1./255)\n",
        "\n",
        "train_generator = train_datagen.flow_from_directory(\n",
        "        train_FileNames,  \n",
        "        target_size=(150, 150),\n",
        "        batch_size=20,\n",
        "        class_mode='categorical')\n",
        "\n",
        "validation_generator = val_datagen.flow_from_directory(\n",
        "        val_FileNames,\n",
        "        target_size=(150, 150),\n",
        "        batch_size=20,\n",
        "        class_mode='categorical')"
      ],
      "metadata": {
        "colab": {
          "base_uri": "https://localhost:8080/"
        },
        "id": "GH0QiCzkjEVF",
        "outputId": "296c58c6-1414-4006-b9ec-245bc914c934"
      },
      "execution_count": null,
      "outputs": [
        {
          "output_type": "stream",
          "name": "stdout",
          "text": [
            "Found 9582 images belonging to 20 classes.\n",
            "Found 1192 images belonging to 20 classes.\n"
          ]
        }
      ]
    },
    {
      "cell_type": "markdown",
      "source": [
        "#Adjust Learning Training"
      ],
      "metadata": {
        "id": "CywlDKVXcHBs"
      }
    },
    {
      "cell_type": "code",
      "source": [
        "def adjust_learning_rate():    \n",
        "    lr_schedule = tf.keras.callbacks.LearningRateScheduler(lambda epoch: 1e-6 * 10**(epoch / 20))\n",
        "\n",
        "    optimizer = tf.keras.optimizers.SGD(learning_rate=1e-6, momentum=0.9)\n",
        "\n",
        "    model.compile(loss='categorical_crossentropy',\n",
        "                  optimizer=optimizer, \n",
        "                  metrics=[\"accuracy\"]) \n",
        "    \n",
        "    history = model.fit(train_generator, epochs=100, callbacks=[lr_schedule])\n",
        "    \n",
        "    return history"
      ],
      "metadata": {
        "id": "CEnu8eKqcJ3s"
      },
      "execution_count": null,
      "outputs": []
    },
    {
      "cell_type": "code",
      "source": [
        "lr_history = adjust_learning_rate()"
      ],
      "metadata": {
        "colab": {
          "base_uri": "https://localhost:8080/"
        },
        "outputId": "ff80ae57-ce85-4324-bd2f-ab806309a43d",
        "id": "6sPi1dLDi8H_"
      },
      "execution_count": null,
      "outputs": [
        {
          "output_type": "stream",
          "name": "stdout",
          "text": [
            "Epoch 1/100\n",
            "480/480 [==============================] - 125s 236ms/step - loss: 3.1251 - accuracy: 0.0494 - lr: 1.0000e-06\n",
            "Epoch 2/100\n",
            "480/480 [==============================] - 114s 237ms/step - loss: 3.0810 - accuracy: 0.0533 - lr: 1.1220e-06\n",
            "Epoch 3/100\n",
            "480/480 [==============================] - 113s 236ms/step - loss: 3.0538 - accuracy: 0.0535 - lr: 1.2589e-06\n",
            "Epoch 4/100\n",
            "480/480 [==============================] - 119s 248ms/step - loss: 3.0247 - accuracy: 0.0620 - lr: 1.4125e-06\n",
            "Epoch 5/100\n",
            "480/480 [==============================] - 114s 237ms/step - loss: 2.9855 - accuracy: 0.0742 - lr: 1.5849e-06\n",
            "Epoch 6/100\n",
            "480/480 [==============================] - 113s 236ms/step - loss: 2.9615 - accuracy: 0.0810 - lr: 1.7783e-06\n",
            "Epoch 7/100\n",
            "480/480 [==============================] - 113s 235ms/step - loss: 2.9281 - accuracy: 0.0964 - lr: 1.9953e-06\n",
            "Epoch 8/100\n",
            "480/480 [==============================] - 114s 237ms/step - loss: 2.8945 - accuracy: 0.1121 - lr: 2.2387e-06\n",
            "Epoch 9/100\n",
            "480/480 [==============================] - 115s 239ms/step - loss: 2.8658 - accuracy: 0.1221 - lr: 2.5119e-06\n",
            "Epoch 10/100\n",
            "480/480 [==============================] - 112s 232ms/step - loss: 2.8302 - accuracy: 0.1401 - lr: 2.8184e-06\n",
            "Epoch 11/100\n",
            "480/480 [==============================] - 116s 242ms/step - loss: 2.7904 - accuracy: 0.1535 - lr: 3.1623e-06\n",
            "Epoch 12/100\n",
            "480/480 [==============================] - 117s 242ms/step - loss: 2.7438 - accuracy: 0.1886 - lr: 3.5481e-06\n",
            "Epoch 13/100\n",
            "480/480 [==============================] - 119s 247ms/step - loss: 2.6845 - accuracy: 0.2125 - lr: 3.9811e-06\n",
            "Epoch 14/100\n",
            "480/480 [==============================] - 115s 238ms/step - loss: 2.6333 - accuracy: 0.2433 - lr: 4.4668e-06\n",
            "Epoch 15/100\n",
            "480/480 [==============================] - 115s 240ms/step - loss: 2.5660 - accuracy: 0.2722 - lr: 5.0119e-06\n",
            "Epoch 16/100\n",
            "480/480 [==============================] - 115s 239ms/step - loss: 2.4764 - accuracy: 0.3105 - lr: 5.6234e-06\n",
            "Epoch 17/100\n",
            "480/480 [==============================] - 115s 239ms/step - loss: 2.4077 - accuracy: 0.3249 - lr: 6.3096e-06\n",
            "Epoch 18/100\n",
            "480/480 [==============================] - 114s 238ms/step - loss: 2.3130 - accuracy: 0.3554 - lr: 7.0795e-06\n",
            "Epoch 19/100\n",
            "480/480 [==============================] - 117s 244ms/step - loss: 2.2179 - accuracy: 0.3829 - lr: 7.9433e-06\n",
            "Epoch 20/100\n",
            "480/480 [==============================] - 119s 248ms/step - loss: 2.1100 - accuracy: 0.4227 - lr: 8.9125e-06\n",
            "Epoch 21/100\n",
            "480/480 [==============================] - 117s 244ms/step - loss: 2.0101 - accuracy: 0.4496 - lr: 1.0000e-05\n",
            "Epoch 22/100\n",
            "480/480 [==============================] - 118s 246ms/step - loss: 1.9108 - accuracy: 0.4722 - lr: 1.1220e-05\n",
            "Epoch 23/100\n",
            "480/480 [==============================] - 117s 243ms/step - loss: 1.8159 - accuracy: 0.4932 - lr: 1.2589e-05\n",
            "Epoch 24/100\n",
            "480/480 [==============================] - 121s 252ms/step - loss: 1.7226 - accuracy: 0.5213 - lr: 1.4125e-05\n",
            "Epoch 25/100\n",
            "480/480 [==============================] - 116s 241ms/step - loss: 1.6166 - accuracy: 0.5474 - lr: 1.5849e-05\n",
            "Epoch 26/100\n",
            "480/480 [==============================] - 118s 247ms/step - loss: 1.5434 - accuracy: 0.5687 - lr: 1.7783e-05\n",
            "Epoch 27/100\n",
            "480/480 [==============================] - 121s 253ms/step - loss: 1.4680 - accuracy: 0.5857 - lr: 1.9953e-05\n",
            "Epoch 28/100\n",
            "480/480 [==============================] - 119s 248ms/step - loss: 1.3927 - accuracy: 0.6030 - lr: 2.2387e-05\n",
            "Epoch 29/100\n",
            "480/480 [==============================] - 118s 245ms/step - loss: 1.3160 - accuracy: 0.6248 - lr: 2.5119e-05\n",
            "Epoch 30/100\n",
            "480/480 [==============================] - 120s 251ms/step - loss: 1.2462 - accuracy: 0.6371 - lr: 2.8184e-05\n",
            "Epoch 31/100\n",
            "480/480 [==============================] - 121s 252ms/step - loss: 1.1790 - accuracy: 0.6667 - lr: 3.1623e-05\n",
            "Epoch 32/100\n",
            "480/480 [==============================] - 121s 252ms/step - loss: 1.1328 - accuracy: 0.6781 - lr: 3.5481e-05\n",
            "Epoch 33/100\n",
            "480/480 [==============================] - 120s 249ms/step - loss: 1.0544 - accuracy: 0.6967 - lr: 3.9811e-05\n",
            "Epoch 34/100\n",
            "480/480 [==============================] - 116s 242ms/step - loss: 1.0140 - accuracy: 0.7026 - lr: 4.4668e-05\n",
            "Epoch 35/100\n",
            "480/480 [==============================] - 122s 254ms/step - loss: 0.9630 - accuracy: 0.7207 - lr: 5.0119e-05\n",
            "Epoch 36/100\n",
            "480/480 [==============================] - 122s 255ms/step - loss: 0.9181 - accuracy: 0.7320 - lr: 5.6234e-05\n",
            "Epoch 37/100\n",
            "480/480 [==============================] - 121s 252ms/step - loss: 0.8743 - accuracy: 0.7467 - lr: 6.3096e-05\n",
            "Epoch 38/100\n",
            "480/480 [==============================] - 119s 248ms/step - loss: 0.8307 - accuracy: 0.7554 - lr: 7.0795e-05\n",
            "Epoch 39/100\n",
            "480/480 [==============================] - 118s 246ms/step - loss: 0.7907 - accuracy: 0.7697 - lr: 7.9433e-05\n",
            "Epoch 40/100\n",
            "480/480 [==============================] - 120s 250ms/step - loss: 0.7630 - accuracy: 0.7753 - lr: 8.9125e-05\n",
            "Epoch 41/100\n",
            "480/480 [==============================] - 117s 243ms/step - loss: 0.7307 - accuracy: 0.7824 - lr: 1.0000e-04\n",
            "Epoch 42/100\n",
            "480/480 [==============================] - 121s 251ms/step - loss: 0.6987 - accuracy: 0.7924 - lr: 1.1220e-04\n",
            "Epoch 43/100\n",
            "480/480 [==============================] - 120s 250ms/step - loss: 0.6714 - accuracy: 0.8022 - lr: 1.2589e-04\n",
            "Epoch 44/100\n",
            "480/480 [==============================] - 120s 250ms/step - loss: 0.6332 - accuracy: 0.8129 - lr: 1.4125e-04\n",
            "Epoch 45/100\n",
            "480/480 [==============================] - 114s 238ms/step - loss: 0.6240 - accuracy: 0.8081 - lr: 1.5849e-04\n",
            "Epoch 46/100\n",
            "480/480 [==============================] - 118s 246ms/step - loss: 0.5937 - accuracy: 0.8220 - lr: 1.7783e-04\n",
            "Epoch 47/100\n",
            "480/480 [==============================] - 122s 254ms/step - loss: 0.5732 - accuracy: 0.8262 - lr: 1.9953e-04\n",
            "Epoch 48/100\n",
            "480/480 [==============================] - 121s 253ms/step - loss: 0.5347 - accuracy: 0.8397 - lr: 2.2387e-04\n",
            "Epoch 49/100\n",
            "480/480 [==============================] - 116s 242ms/step - loss: 0.5248 - accuracy: 0.8371 - lr: 2.5119e-04\n",
            "Epoch 50/100\n",
            "480/480 [==============================] - 119s 248ms/step - loss: 0.5102 - accuracy: 0.8448 - lr: 2.8184e-04\n",
            "Epoch 51/100\n",
            "480/480 [==============================] - 115s 240ms/step - loss: 0.4918 - accuracy: 0.8475 - lr: 3.1623e-04\n",
            "Epoch 52/100\n",
            "480/480 [==============================] - 112s 233ms/step - loss: 0.4754 - accuracy: 0.8512 - lr: 3.5481e-04\n",
            "Epoch 53/100\n",
            "480/480 [==============================] - 112s 234ms/step - loss: 0.4739 - accuracy: 0.8501 - lr: 3.9811e-04\n",
            "Epoch 54/100\n",
            "480/480 [==============================] - 112s 233ms/step - loss: 0.4492 - accuracy: 0.8569 - lr: 4.4668e-04\n",
            "Epoch 55/100\n",
            "480/480 [==============================] - 114s 238ms/step - loss: 0.4379 - accuracy: 0.8619 - lr: 5.0119e-04\n",
            "Epoch 56/100\n",
            "480/480 [==============================] - 115s 240ms/step - loss: 0.4323 - accuracy: 0.8621 - lr: 5.6234e-04\n",
            "Epoch 57/100\n",
            "480/480 [==============================] - 115s 239ms/step - loss: 0.4314 - accuracy: 0.8623 - lr: 6.3096e-04\n",
            "Epoch 58/100\n",
            "480/480 [==============================] - 116s 242ms/step - loss: 0.4259 - accuracy: 0.8612 - lr: 7.0795e-04\n",
            "Epoch 59/100\n",
            "480/480 [==============================] - 116s 241ms/step - loss: 0.4207 - accuracy: 0.8619 - lr: 7.9433e-04\n",
            "Epoch 60/100\n",
            "480/480 [==============================] - 117s 244ms/step - loss: 0.4217 - accuracy: 0.8619 - lr: 8.9125e-04\n",
            "Epoch 61/100\n",
            "480/480 [==============================] - 115s 240ms/step - loss: 0.4171 - accuracy: 0.8599 - lr: 0.0010\n",
            "Epoch 62/100\n",
            "480/480 [==============================] - 116s 241ms/step - loss: 0.4122 - accuracy: 0.8631 - lr: 0.0011\n",
            "Epoch 63/100\n",
            "480/480 [==============================] - 118s 246ms/step - loss: 0.4137 - accuracy: 0.8609 - lr: 0.0013\n",
            "Epoch 64/100\n",
            "480/480 [==============================] - 117s 243ms/step - loss: 0.4135 - accuracy: 0.8614 - lr: 0.0014\n",
            "Epoch 65/100\n",
            "480/480 [==============================] - 119s 248ms/step - loss: 0.4128 - accuracy: 0.8667 - lr: 0.0016\n",
            "Epoch 66/100\n",
            "480/480 [==============================] - 116s 240ms/step - loss: 0.4219 - accuracy: 0.8602 - lr: 0.0018\n",
            "Epoch 67/100\n",
            "480/480 [==============================] - 118s 247ms/step - loss: 0.4494 - accuracy: 0.8534 - lr: 0.0020\n",
            "Epoch 68/100\n",
            "480/480 [==============================] - 116s 242ms/step - loss: 0.4412 - accuracy: 0.8566 - lr: 0.0022\n",
            "Epoch 69/100\n",
            "480/480 [==============================] - 116s 242ms/step - loss: 0.4518 - accuracy: 0.8495 - lr: 0.0025\n",
            "Epoch 70/100\n",
            "480/480 [==============================] - 118s 246ms/step - loss: 0.4845 - accuracy: 0.8412 - lr: 0.0028\n",
            "Epoch 71/100\n",
            "480/480 [==============================] - 115s 240ms/step - loss: 0.4916 - accuracy: 0.8405 - lr: 0.0032\n",
            "Epoch 72/100\n",
            "480/480 [==============================] - 116s 241ms/step - loss: 0.5053 - accuracy: 0.8335 - lr: 0.0035\n",
            "Epoch 73/100\n",
            "480/480 [==============================] - 115s 239ms/step - loss: 0.5323 - accuracy: 0.8265 - lr: 0.0040\n",
            "Epoch 74/100\n",
            "480/480 [==============================] - 120s 248ms/step - loss: 0.5325 - accuracy: 0.8298 - lr: 0.0045\n",
            "Epoch 75/100\n",
            "480/480 [==============================] - 115s 240ms/step - loss: 0.5512 - accuracy: 0.8246 - lr: 0.0050\n",
            "Epoch 76/100\n",
            "480/480 [==============================] - 115s 239ms/step - loss: 0.5813 - accuracy: 0.8131 - lr: 0.0056\n",
            "Epoch 77/100\n",
            "480/480 [==============================] - 116s 242ms/step - loss: 0.6757 - accuracy: 0.7843 - lr: 0.0063\n",
            "Epoch 78/100\n",
            "480/480 [==============================] - 115s 239ms/step - loss: 0.7384 - accuracy: 0.7672 - lr: 0.0071\n",
            "Epoch 79/100\n",
            "480/480 [==============================] - 115s 240ms/step - loss: 0.8182 - accuracy: 0.7479 - lr: 0.0079\n",
            "Epoch 80/100\n",
            "480/480 [==============================] - 116s 241ms/step - loss: 0.9314 - accuracy: 0.7103 - lr: 0.0089\n",
            "Epoch 81/100\n",
            "480/480 [==============================] - 117s 243ms/step - loss: 1.0277 - accuracy: 0.6909 - lr: 0.0100\n",
            "Epoch 82/100\n",
            "480/480 [==============================] - 120s 250ms/step - loss: 1.1729 - accuracy: 0.6562 - lr: 0.0112\n",
            "Epoch 83/100\n",
            "480/480 [==============================] - 118s 245ms/step - loss: 1.3338 - accuracy: 0.6001 - lr: 0.0126\n",
            "Epoch 84/100\n",
            "480/480 [==============================] - 116s 242ms/step - loss: 1.3706 - accuracy: 0.5892 - lr: 0.0141\n",
            "Epoch 85/100\n",
            "480/480 [==============================] - 116s 241ms/step - loss: 1.6402 - accuracy: 0.5308 - lr: 0.0158\n",
            "Epoch 86/100\n",
            "480/480 [==============================] - 118s 246ms/step - loss: 1.8179 - accuracy: 0.4869 - lr: 0.0178\n",
            "Epoch 87/100\n",
            "480/480 [==============================] - 113s 236ms/step - loss: 1.9911 - accuracy: 0.4348 - lr: 0.0200\n",
            "Epoch 88/100\n",
            "480/480 [==============================] - 111s 232ms/step - loss: 2.1771 - accuracy: 0.3836 - lr: 0.0224\n",
            "Epoch 89/100\n",
            "480/480 [==============================] - 115s 239ms/step - loss: 2.2996 - accuracy: 0.3400 - lr: 0.0251\n",
            "Epoch 90/100\n",
            "480/480 [==============================] - 117s 243ms/step - loss: 2.3874 - accuracy: 0.3005 - lr: 0.0282\n",
            "Epoch 91/100\n",
            "480/480 [==============================] - 114s 238ms/step - loss: 2.5816 - accuracy: 0.2297 - lr: 0.0316\n",
            "Epoch 92/100\n",
            "480/480 [==============================] - 117s 243ms/step - loss: 2.7723 - accuracy: 0.1554 - lr: 0.0355\n",
            "Epoch 93/100\n",
            "480/480 [==============================] - 119s 248ms/step - loss: 2.8735 - accuracy: 0.1182 - lr: 0.0398\n",
            "Epoch 94/100\n",
            "480/480 [==============================] - 118s 246ms/step - loss: 2.9335 - accuracy: 0.0920 - lr: 0.0447\n",
            "Epoch 95/100\n",
            "480/480 [==============================] - 116s 242ms/step - loss: 2.9567 - accuracy: 0.0794 - lr: 0.0501\n",
            "Epoch 96/100\n",
            "480/480 [==============================] - 114s 238ms/step - loss: 2.9655 - accuracy: 0.0786 - lr: 0.0562\n",
            "Epoch 97/100\n",
            "480/480 [==============================] - 118s 245ms/step - loss: 3.0078 - accuracy: 0.0573 - lr: 0.0631\n",
            "Epoch 98/100\n",
            "480/480 [==============================] - 116s 242ms/step - loss: 3.0043 - accuracy: 0.0532 - lr: 0.0708\n",
            "Epoch 99/100\n",
            "480/480 [==============================] - 113s 235ms/step - loss: 3.0054 - accuracy: 0.0502 - lr: 0.0794\n",
            "Epoch 100/100\n",
            "480/480 [==============================] - 112s 233ms/step - loss: 3.0400 - accuracy: 0.0522 - lr: 0.0891\n"
          ]
        }
      ]
    },
    {
      "cell_type": "code",
      "source": [
        "plt.semilogx(lr_history.history[\"lr\"], lr_history.history[\"loss\"])\n",
        "plt.axis([1e-6, 10, 0, 10])"
      ],
      "metadata": {
        "colab": {
          "base_uri": "https://localhost:8080/",
          "height": 457
        },
        "id": "EbXA_w3-cWL7",
        "outputId": "f7c16980-6a76-42f0-c818-30ff02fa8a96"
      },
      "execution_count": null,
      "outputs": [
        {
          "output_type": "execute_result",
          "data": {
            "text/plain": [
              "(1e-06, 10.0, 0.0, 10.0)"
            ]
          },
          "metadata": {},
          "execution_count": 30
        },
        {
          "output_type": "display_data",
          "data": {
            "text/plain": [
              "<Figure size 640x480 with 1 Axes>"
            ],
            "image/png": "[encoded data removed]"
          },
          "metadata": {}
        }
      ]
    },
    {
      "cell_type": "markdown",
      "source": [
        "#Compile and Train the model"
      ],
      "metadata": {
        "id": "RO6MWP28cLJI"
      }
    },
    {
      "cell_type": "code",
      "source": [
        "model.compile(loss='categorical_crossentropy',\n",
        "                optimizer=tf.keras.optimizers.SGD(learning_rate=3.5481e-04, momentum=0.9),\n",
        "                metrics=['accuracy'])"
      ],
      "metadata": {
        "id": "eOophxPBBjOQ"
      },
      "execution_count": null,
      "outputs": []
    },
    {
      "cell_type": "code",
      "source": [
        "EPOCHS = 20\n",
        "  \n",
        "history = model.fit(\n",
        "      train_generator,\n",
        "      batch_size = 20,\n",
        "      steps_per_epoch=480,\n",
        "      epochs=EPOCHS,\n",
        "      validation_data=validation_generator,\n",
        "      validation_steps=59.6,\n",
        "      verbose=2)"
      ],
      "metadata": {
        "colab": {
          "base_uri": "https://localhost:8080/"
        },
        "id": "Fu0RTCOXjQ8u",
        "outputId": "1a1cfdd3-db30-455a-b6b2-9290af887801"
      },
      "execution_count": null,
      "outputs": [
        {
          "output_type": "stream",
          "name": "stdout",
          "text": [
            "Epoch 1/20\n",
            "480/480 - 126s - loss: 1.8168 - accuracy: 0.4635 - val_loss: 0.9005 - val_accuracy: 0.7190 - 126s/epoch - 263ms/step\n",
            "Epoch 2/20\n",
            "480/480 - 116s - loss: 1.0248 - accuracy: 0.6893 - val_loss: 0.6277 - val_accuracy: 0.8146 - 116s/epoch - 243ms/step\n",
            "Epoch 3/20\n",
            "480/480 - 117s - loss: 0.8127 - accuracy: 0.7484 - val_loss: 0.5083 - val_accuracy: 0.8507 - 117s/epoch - 244ms/step\n",
            "Epoch 4/20\n",
            "480/480 - 121s - loss: 0.7149 - accuracy: 0.7792 - val_loss: 0.4898 - val_accuracy: 0.8498 - 121s/epoch - 252ms/step\n",
            "Epoch 5/20\n",
            "480/480 - 118s - loss: 0.6320 - accuracy: 0.8067 - val_loss: 0.4385 - val_accuracy: 0.8633 - 118s/epoch - 246ms/step\n",
            "Epoch 6/20\n",
            "480/480 - 117s - loss: 0.5903 - accuracy: 0.8144 - val_loss: 0.4195 - val_accuracy: 0.8674 - 117s/epoch - 243ms/step\n",
            "Epoch 7/20\n",
            "480/480 - 119s - loss: 0.5581 - accuracy: 0.8246 - val_loss: 0.3776 - val_accuracy: 0.8851 - 119s/epoch - 248ms/step\n",
            "Epoch 8/20\n",
            "480/480 - 119s - loss: 0.5363 - accuracy: 0.8338 - val_loss: 0.3687 - val_accuracy: 0.8876 - 119s/epoch - 247ms/step\n",
            "Epoch 9/20\n",
            "480/480 - 117s - loss: 0.5034 - accuracy: 0.8417 - val_loss: 0.3578 - val_accuracy: 0.8968 - 117s/epoch - 244ms/step\n",
            "Epoch 10/20\n",
            "480/480 - 122s - loss: 0.4818 - accuracy: 0.8526 - val_loss: 0.3316 - val_accuracy: 0.9027 - 122s/epoch - 253ms/step\n",
            "Epoch 11/20\n",
            "480/480 - 118s - loss: 0.4607 - accuracy: 0.8533 - val_loss: 0.3361 - val_accuracy: 0.9002 - 118s/epoch - 246ms/step\n",
            "Epoch 12/20\n",
            "480/480 - 119s - loss: 0.4446 - accuracy: 0.8582 - val_loss: 0.3309 - val_accuracy: 0.8977 - 119s/epoch - 249ms/step\n",
            "Epoch 13/20\n",
            "480/480 - 119s - loss: 0.4314 - accuracy: 0.8606 - val_loss: 0.3186 - val_accuracy: 0.9086 - 119s/epoch - 247ms/step\n",
            "Epoch 14/20\n",
            "480/480 - 117s - loss: 0.4236 - accuracy: 0.8673 - val_loss: 0.3264 - val_accuracy: 0.9027 - 117s/epoch - 244ms/step\n",
            "Epoch 15/20\n",
            "480/480 - 117s - loss: 0.4076 - accuracy: 0.8668 - val_loss: 0.3073 - val_accuracy: 0.9086 - 117s/epoch - 244ms/step\n",
            "Epoch 16/20\n",
            "480/480 - 118s - loss: 0.4097 - accuracy: 0.8657 - val_loss: 0.3185 - val_accuracy: 0.9060 - 118s/epoch - 245ms/step\n",
            "Epoch 17/20\n",
            "480/480 - 118s - loss: 0.3925 - accuracy: 0.8769 - val_loss: 0.3077 - val_accuracy: 0.9035 - 118s/epoch - 246ms/step\n",
            "Epoch 18/20\n",
            "480/480 - 117s - loss: 0.3741 - accuracy: 0.8822 - val_loss: 0.3112 - val_accuracy: 0.9002 - 117s/epoch - 245ms/step\n",
            "Epoch 19/20\n",
            "480/480 - 122s - loss: 0.3655 - accuracy: 0.8827 - val_loss: 0.2936 - val_accuracy: 0.9077 - 122s/epoch - 254ms/step\n",
            "Epoch 20/20\n",
            "480/480 - 121s - loss: 0.3617 - accuracy: 0.8863 - val_loss: 0.2887 - val_accuracy: 0.9069 - 121s/epoch - 253ms/step\n"
          ]
        }
      ]
    },
    {
      "cell_type": "markdown",
      "source": [
        "# Check train and val performance"
      ],
      "metadata": {
        "id": "JeTZiZB9ZIX0"
      }
    },
    {
      "cell_type": "code",
      "source": [
        "#-----------------------------------------------------------\n",
        "# Retrieve a list of list results on training and test data \n",
        "# sets for each training epoch\n",
        "#-----------------------------------------------------------\n",
        "acc=history.history['accuracy']\n",
        "val_acc=history.history['val_accuracy']\n",
        "loss=history.history['loss']\n",
        "val_loss=history.history['val_loss']\n",
        "\n",
        "epochs=range(len(acc)) # Get number of epochs\n",
        "\n",
        "#------------------------------------------------\n",
        "# Plot training and validation accuracy per epoch\n",
        "#------------------------------------------------\n",
        "plt.plot(epochs, acc, 'r', \"Training Accuracy\")\n",
        "plt.plot(epochs, val_acc, 'b', \"Validation Accuracy\")\n",
        "plt.title('Training and validation accuracy')\n",
        "plt.show()\n",
        "print(\"\")\n",
        "\n",
        "#------------------------------------------------\n",
        "# Plot training and validation loss per epoch\n",
        "#------------------------------------------------\n",
        "plt.plot(epochs, loss, 'r', \"Training Loss\")\n",
        "plt.plot(epochs, val_loss, 'b', \"Validation Loss\")\n",
        "plt.show()"
      ],
      "metadata": {
        "colab": {
          "base_uri": "https://localhost:8080/",
          "height": 883
        },
        "id": "sGpJ1PSMZNOS",
        "outputId": "d3d0f953-ce62-4ede-80ed-95507bc05ebe"
      },
      "execution_count": null,
      "outputs": [
        {
          "output_type": "display_data",
          "data": {
            "text/plain": [
              "<Figure size 640x480 with 1 Axes>"
            ],
            "image/png": "[encoded data removed]"
          },
          "metadata": {}
        },
        {
          "output_type": "stream",
          "name": "stdout",
          "text": [
            "\n"
          ]
        },
        {
          "output_type": "display_data",
          "data": {
            "text/plain": [
              "<Figure size 640x480 with 1 Axes>"
            ],
            "image/png": "[encoded data removed]"
          },
          "metadata": {}
        }
      ]
    },
    {
      "cell_type": "markdown",
      "source": [
        "#Testing data"
      ],
      "metadata": {
        "id": "d9cCI89HUWDZ"
      }
    },
    {
      "cell_type": "code",
      "source": [
        "test_datagen = ImageDataGenerator(rescale=1./255)\n",
        "\n",
        "test_generator = test_datagen.flow_from_directory(\n",
        "        test_FileNames,\n",
        "        target_size=(150, 150),\n",
        "        batch_size=20,\n",
        "        class_mode='categorical',\n",
        "        shuffle=False)\n",
        "\n",
        "loss, accuracy = model.evaluate(test_generator)\n",
        "\n",
        "print(\"Test accuracy:\", accuracy)"
      ],
      "metadata": {
        "colab": {
          "base_uri": "https://localhost:8080/"
        },
        "id": "2chy5gy_UVMx",
        "outputId": "fdc4b3c3-3fa8-4366-e0db-955fd6b16330"
      },
      "execution_count": null,
      "outputs": [
        {
          "output_type": "stream",
          "name": "stdout",
          "text": [
            "Found 1216 images belonging to 20 classes.\n",
            "61/61 [==============================] - 10s 167ms/step - loss: 0.2942 - accuracy: 0.9112\n",
            "Test accuracy: 0.9111841917037964\n"
          ]
        }
      ]
    },
    {
      "cell_type": "markdown",
      "source": [
        "#Make F1 table"
      ],
      "metadata": {
        "id": "oTjA-i6z8R8I"
      }
    },
    {
      "cell_type": "code",
      "source": [
        "y_pred = model.predict(test_generator)\n",
        "predicted_labels = np.argmax(y_pred, axis=1)\n",
        "\n",
        "y_true = test_generator.classes\n",
        "\n",
        "tp = np.sum(np.logical_and(y_true == 1, predicted_labels == 1))\n",
        "fp = np.sum(np.logical_and(y_true == 0, predicted_labels == 1))\n",
        "tn = np.sum(np.logical_and(y_true == 0, predicted_labels == 0))\n",
        "fn = np.sum(np.logical_and(y_true == 1, predicted_labels == 0))\n",
        "\n",
        "data = {\n",
        "    'Actual Positive': [tp, fn],\n",
        "    'Actual Negative': [fp, tn]\n",
        "}\n",
        "\n",
        "index = ['Predicted Positive', 'Predicted Negative']\n",
        "f1_table = pd.DataFrame(data, index=index)\n",
        "\n",
        "print(f1_table)"
      ],
      "metadata": {
        "id": "bjt4nh_meb2e",
        "colab": {
          "base_uri": "https://localhost:8080/"
        },
        "outputId": "04716046-d278-4f2e-967e-7e91fd4f84ea"
      },
      "execution_count": null,
      "outputs": [
        {
          "output_type": "stream",
          "name": "stdout",
          "text": [
            "61/61 [==============================] - 11s 170ms/step\n",
            "                    Actual Positive  Actual Negative\n",
            "Predicted Positive               62                0\n",
            "Predicted Negative                0               58\n"
          ]
        }
      ]
    }
  ]
}